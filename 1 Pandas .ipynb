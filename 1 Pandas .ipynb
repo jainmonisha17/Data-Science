{
 "cells": [
  {
   "cell_type": "markdown",
   "id": "4eadb23d",
   "metadata": {},
   "source": [
    "## Pandas for DataScience"
   ]
  },
  {
   "cell_type": "markdown",
   "id": "b409da19",
   "metadata": {},
   "source": [
    "* Series\n",
    "* Data Frames\n",
    "* Missing Data\n",
    "* GroupBy\n",
    "* Merging, Joining and Concatenating\n",
    "* Operations\n",
    "* Data Input and Output"
   ]
  },
  {
   "cell_type": "code",
   "execution_count": 1,
   "id": "bded1b1e",
   "metadata": {},
   "outputs": [],
   "source": [
    "import numpy as np\n",
    "import pandas as pd"
   ]
  },
  {
   "cell_type": "code",
   "execution_count": null,
   "id": "fd54dfaf",
   "metadata": {},
   "outputs": [],
   "source": [
    "  "
   ]
  }
 ],
 "metadata": {
  "kernelspec": {
   "display_name": "Python 3 (ipykernel)",
   "language": "python",
   "name": "python3"
  },
  "language_info": {
   "codemirror_mode": {
    "name": "ipython",
    "version": 3
   },
   "file_extension": ".py",
   "mimetype": "text/x-python",
   "name": "python",
   "nbconvert_exporter": "python",
   "pygments_lexer": "ipython3",
   "version": "3.9.13"
  }
 },
 "nbformat": 4,
 "nbformat_minor": 5
}
