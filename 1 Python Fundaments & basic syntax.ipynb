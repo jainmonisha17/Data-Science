{
 "cells": [
  {
   "cell_type": "markdown",
   "id": "28770944",
   "metadata": {},
   "source": [
    "# Python Tutorial with Monisha Jain"
   ]
  },
  {
   "cell_type": "markdown",
   "id": "94a7a599",
   "metadata": {},
   "source": [
    "## Welcome to Python Tutorial -> Tutor -> Krish Naik -> iNeuron"
   ]
  },
  {
   "cell_type": "markdown",
   "id": "e904e9cc",
   "metadata": {},
   "source": [
    "- Datatype"
   ]
  },
  {
   "cell_type": "markdown",
   "id": "6e24ca68",
   "metadata": {},
   "source": [
    "1 + 1"
   ]
  },
  {
   "cell_type": "markdown",
   "id": "edeaf792",
   "metadata": {},
   "source": [
    "## BASIC of PYTHON\n"
   ]
  },
  {
   "cell_type": "markdown",
   "id": "60b547c1",
   "metadata": {},
   "source": [
    "- In this, \n",
    "\n",
    "* Various Datatypes in Python\n",
    "* Variable\n",
    "* Variables Assignment\n",
    "* Print Formatting"
   ]
  },
  {
   "cell_type": "code",
   "execution_count": 9,
   "id": "a405a916",
   "metadata": {},
   "outputs": [
    {
     "data": {
      "text/plain": [
       "2"
      ]
     },
     "execution_count": 9,
     "metadata": {},
     "output_type": "execute_result"
    }
   ],
   "source": [
    "1+1"
   ]
  },
  {
   "cell_type": "code",
   "execution_count": 10,
   "id": "4c95c35a",
   "metadata": {},
   "outputs": [
    {
     "data": {
      "text/plain": [
       "2"
      ]
     },
     "execution_count": 10,
     "metadata": {},
     "output_type": "execute_result"
    }
   ],
   "source": [
    "1 + 1"
   ]
  },
  {
   "cell_type": "code",
   "execution_count": 11,
   "id": "60800e3f",
   "metadata": {},
   "outputs": [
    {
     "data": {
      "text/plain": [
       "20"
      ]
     },
     "execution_count": 11,
     "metadata": {},
     "output_type": "execute_result"
    }
   ],
   "source": [
    "4 * 5"
   ]
  },
  {
   "cell_type": "code",
   "execution_count": 12,
   "id": "4b5c9806",
   "metadata": {},
   "outputs": [
    {
     "data": {
      "text/plain": [
       "20"
      ]
     },
     "execution_count": 12,
     "metadata": {},
     "output_type": "execute_result"
    }
   ],
   "source": [
    "2 * 10"
   ]
  },
  {
   "cell_type": "code",
   "execution_count": 13,
   "id": "24be7766",
   "metadata": {},
   "outputs": [
    {
     "data": {
      "text/plain": [
       "5.0"
      ]
     },
     "execution_count": 13,
     "metadata": {},
     "output_type": "execute_result"
    }
   ],
   "source": [
    "10 / 2"
   ]
  },
  {
   "cell_type": "code",
   "execution_count": 14,
   "id": "5c183841",
   "metadata": {},
   "outputs": [
    {
     "data": {
      "text/plain": [
       "0"
      ]
     },
     "execution_count": 14,
     "metadata": {},
     "output_type": "execute_result"
    }
   ],
   "source": [
    "10 % 2"
   ]
  },
  {
   "cell_type": "code",
   "execution_count": 15,
   "id": "72c77404",
   "metadata": {},
   "outputs": [
    {
     "data": {
      "text/plain": [
       "100"
      ]
     },
     "execution_count": 15,
     "metadata": {},
     "output_type": "execute_result"
    }
   ],
   "source": [
    "10 ** 2"
   ]
  },
  {
   "cell_type": "markdown",
   "id": "52c26cd7",
   "metadata": {},
   "source": [
    " - Check the data types"
   ]
  },
  {
   "cell_type": "code",
   "execution_count": 17,
   "id": "96d45c9b",
   "metadata": {},
   "outputs": [
    {
     "data": {
      "text/plain": [
       "int"
      ]
     },
     "execution_count": 17,
     "metadata": {},
     "output_type": "execute_result"
    }
   ],
   "source": [
    "type(1)"
   ]
  },
  {
   "cell_type": "code",
   "execution_count": 18,
   "id": "b309fd61",
   "metadata": {},
   "outputs": [
    {
     "data": {
      "text/plain": [
       "str"
      ]
     },
     "execution_count": 18,
     "metadata": {},
     "output_type": "execute_result"
    }
   ],
   "source": [
    "type(\"Hello, Monisha Jain G.N\")\n"
   ]
  },
  {
   "cell_type": "code",
   "execution_count": 20,
   "id": "665c0a5e",
   "metadata": {},
   "outputs": [
    {
     "data": {
      "text/plain": [
       "'strstrstrstrstrstrstrstrstrstr'"
      ]
     },
     "execution_count": 20,
     "metadata": {},
     "output_type": "execute_result"
    }
   ],
   "source": [
    "10 * 'str' \n",
    "\n",
    "# 10 times str"
   ]
  },
  {
   "cell_type": "code",
   "execution_count": 21,
   "id": "fec0dbb5",
   "metadata": {},
   "outputs": [
    {
     "data": {
      "text/plain": [
       "float"
      ]
     },
     "execution_count": 21,
     "metadata": {},
     "output_type": "execute_result"
    }
   ],
   "source": [
    "type(10.0)"
   ]
  },
  {
   "cell_type": "code",
   "execution_count": 22,
   "id": "47e2f509",
   "metadata": {},
   "outputs": [
    {
     "data": {
      "text/plain": [
       "bool"
      ]
     },
     "execution_count": 22,
     "metadata": {},
     "output_type": "execute_result"
    }
   ],
   "source": [
    "type(True)"
   ]
  },
  {
   "cell_type": "markdown",
   "id": "f2ecaa40",
   "metadata": {},
   "source": [
    "## Strings"
   ]
  },
  {
   "cell_type": "code",
   "execution_count": 23,
   "id": "d98519b2",
   "metadata": {},
   "outputs": [
    {
     "data": {
      "text/plain": [
       "'Hello, MOnisha Jain'"
      ]
     },
     "execution_count": 23,
     "metadata": {},
     "output_type": "execute_result"
    }
   ],
   "source": [
    "\"Hello, MOnisha Jain\""
   ]
  },
  {
   "cell_type": "code",
   "execution_count": 24,
   "id": "cfa50e48",
   "metadata": {},
   "outputs": [
    {
     "data": {
      "text/plain": [
       "str"
      ]
     },
     "execution_count": 24,
     "metadata": {},
     "output_type": "execute_result"
    }
   ],
   "source": [
    "type('Hello, MOnisha Jain')"
   ]
  },
  {
   "cell_type": "markdown",
   "id": "82eb4dd8",
   "metadata": {},
   "source": [
    "## Variable Assignment"
   ]
  },
  {
   "cell_type": "code",
   "execution_count": 27,
   "id": "1e85bdb5",
   "metadata": {},
   "outputs": [],
   "source": [
    "# syntax\n",
    "# var_nams = values\n",
    "\n",
    "a = 10 \n",
    "\n",
    "# compailer in python understands its int when we give only a = 10. No need to specify int a = 10\n"
   ]
  },
  {
   "cell_type": "code",
   "execution_count": 28,
   "id": "44254066",
   "metadata": {},
   "outputs": [
    {
     "data": {
      "text/plain": [
       "int"
      ]
     },
     "execution_count": 28,
     "metadata": {},
     "output_type": "execute_result"
    }
   ],
   "source": [
    "type(a)"
   ]
  },
  {
   "cell_type": "code",
   "execution_count": 29,
   "id": "b7dddb92",
   "metadata": {},
   "outputs": [],
   "source": [
    "a = 'Moinisha Jain'\n"
   ]
  },
  {
   "cell_type": "code",
   "execution_count": 30,
   "id": "2318038f",
   "metadata": {},
   "outputs": [
    {
     "data": {
      "text/plain": [
       "str"
      ]
     },
     "execution_count": 30,
     "metadata": {},
     "output_type": "execute_result"
    }
   ],
   "source": [
    "type(a)"
   ]
  },
  {
   "cell_type": "markdown",
   "id": "ae2f45c4",
   "metadata": {},
   "source": [
    "## Mathematical operations with variable assignment"
   ]
  },
  {
   "cell_type": "code",
   "execution_count": 31,
   "id": "456bc258",
   "metadata": {},
   "outputs": [],
   "source": [
    "a = 10\n",
    "b = 20"
   ]
  },
  {
   "cell_type": "code",
   "execution_count": 32,
   "id": "5fee09aa",
   "metadata": {},
   "outputs": [
    {
     "name": "stdout",
     "output_type": "stream",
     "text": [
      "200\n",
      "0.5\n",
      "10\n",
      "200.5\n"
     ]
    }
   ],
   "source": [
    "print(a * b)\n",
    "print(a / b)\n",
    "print(a % b)\n",
    "print((a * b) + (a / b)) # BODMAS "
   ]
  },
  {
   "cell_type": "markdown",
   "id": "5d5b5853",
   "metadata": {},
   "source": [
    "## Various ways of printing in python"
   ]
  },
  {
   "cell_type": "code",
   "execution_count": 33,
   "id": "a27c574d",
   "metadata": {},
   "outputs": [
    {
     "name": "stdout",
     "output_type": "stream",
     "text": [
      "hello\n"
     ]
    }
   ],
   "source": [
    "print(\"hello\")"
   ]
  },
  {
   "cell_type": "code",
   "execution_count": 36,
   "id": "a84a4c03",
   "metadata": {},
   "outputs": [],
   "source": [
    "first_name = \"MOnisha\"\n",
    "last_name = \"Jain\""
   ]
  },
  {
   "cell_type": "code",
   "execution_count": 37,
   "id": "8d8fe469",
   "metadata": {},
   "outputs": [
    {
     "name": "stdout",
     "output_type": "stream",
     "text": [
      "My first name is MOnisha and last name is Jain\n"
     ]
    }
   ],
   "source": [
    "print(\"My first name is {} and last name is {}\".format(first_name, last_name))"
   ]
  },
  {
   "cell_type": "markdown",
   "id": "e41b63cd",
   "metadata": {},
   "source": [
    "-If i change the format of first_name and last_name to last_name and first_name it will print acc to how we want\n",
    "\n"
   ]
  },
  {
   "cell_type": "code",
   "execution_count": 38,
   "id": "cf995497",
   "metadata": {},
   "outputs": [
    {
     "name": "stdout",
     "output_type": "stream",
     "text": [
      "My first name is Jain and last name is MOnisha\n"
     ]
    }
   ],
   "source": [
    "print(\"My first name is {} and last name is {}\".format(last_name, first_name))"
   ]
  },
  {
   "cell_type": "markdown",
   "id": "df155e89",
   "metadata": {},
   "source": [
    "## but"
   ]
  },
  {
   "cell_type": "code",
   "execution_count": 41,
   "id": "7fff98f6",
   "metadata": {},
   "outputs": [
    {
     "name": "stdout",
     "output_type": "stream",
     "text": [
      "My first name is MOnisha and last name is Jain\n"
     ]
    }
   ],
   "source": [
    "print(\"My first name is {first} and last name is {last}\".format(first = first_name, last = last_name))  \n",
    "\n",
    "# See the syntax of this and the above one\n",
    "\n",
    "# Even if we change the order because of the place holder the order remains the same acc to the format mentioned\n",
    "\n",
    "# .format(first = first_name, last = last_name)  "
   ]
  },
  {
   "cell_type": "code",
   "execution_count": 43,
   "id": "e92cb6fb",
   "metadata": {},
   "outputs": [
    {
     "data": {
      "text/plain": [
       "13"
      ]
     },
     "execution_count": 43,
     "metadata": {},
     "output_type": "execute_result"
    }
   ],
   "source": [
    "len(\" Sanket Mehta\")"
   ]
  },
  {
   "cell_type": "code",
   "execution_count": 45,
   "id": "257ae9cb",
   "metadata": {},
   "outputs": [
    {
     "data": {
      "text/plain": [
       "12"
      ]
     },
     "execution_count": 45,
     "metadata": {},
     "output_type": "execute_result"
    }
   ],
   "source": [
    "len(\"Sanket Mehta\")\n",
    "\n",
    "# Know the difference, observe it clearly"
   ]
  },
  {
   "cell_type": "code",
   "execution_count": 46,
   "id": "2a4a3c85",
   "metadata": {},
   "outputs": [
    {
     "data": {
      "text/plain": [
       "list"
      ]
     },
     "execution_count": 46,
     "metadata": {},
     "output_type": "execute_result"
    }
   ],
   "source": [
    "type(['1', 2, 3, 4, '5'])"
   ]
  },
  {
   "cell_type": "code",
   "execution_count": 47,
   "id": "859fc862",
   "metadata": {},
   "outputs": [
    {
     "data": {
      "text/plain": [
       "12"
      ]
     },
     "execution_count": 47,
     "metadata": {},
     "output_type": "execute_result"
    }
   ],
   "source": [
    "len(\"MOnisha Jain\")"
   ]
  },
  {
   "cell_type": "code",
   "execution_count": null,
   "id": "9ecb8a38",
   "metadata": {},
   "outputs": [],
   "source": []
  }
 ],
 "metadata": {
  "kernelspec": {
   "display_name": "Python 3 (ipykernel)",
   "language": "python",
   "name": "python3"
  },
  "language_info": {
   "codemirror_mode": {
    "name": "ipython",
    "version": 3
   },
   "file_extension": ".py",
   "mimetype": "text/x-python",
   "name": "python",
   "nbconvert_exporter": "python",
   "pygments_lexer": "ipython3",
   "version": "3.9.13"
  }
 },
 "nbformat": 4,
 "nbformat_minor": 5
}
