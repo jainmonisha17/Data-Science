{
 "cells": [
  {
   "cell_type": "markdown",
   "id": "44e0baa2",
   "metadata": {},
   "source": [
    "## In this lec, we will discuss how to select elements or group of elements from an array"
   ]
  },
  {
   "cell_type": "code",
   "execution_count": 2,
   "id": "24f7ff56",
   "metadata": {},
   "outputs": [],
   "source": [
    "import numpy as np"
   ]
  },
  {
   "cell_type": "code",
   "execution_count": 3,
   "id": "cb0c5cc9",
   "metadata": {},
   "outputs": [],
   "source": [
    "# Creating sample array \n",
    "\n",
    "arr = np.arange(0, 11)"
   ]
  },
  {
   "cell_type": "code",
   "execution_count": 4,
   "id": "de06a10e",
   "metadata": {},
   "outputs": [
    {
     "data": {
      "text/plain": [
       "array([ 0,  1,  2,  3,  4,  5,  6,  7,  8,  9, 10])"
      ]
     },
     "execution_count": 4,
     "metadata": {},
     "output_type": "execute_result"
    }
   ],
   "source": [
    "arr"
   ]
  },
  {
   "cell_type": "markdown",
   "id": "1bf512af",
   "metadata": {},
   "source": [
    "## Bracket Indexing and Selection"
   ]
  },
  {
   "cell_type": "markdown",
   "id": "d8b96ff3",
   "metadata": {},
   "source": [
    "- The simplest way to pick one or some elements of an array looks very similar to python lists:\n",
    "    "
   ]
  },
  {
   "cell_type": "code",
   "execution_count": 5,
   "id": "46c96e02",
   "metadata": {},
   "outputs": [
    {
     "data": {
      "text/plain": [
       "9"
      ]
     },
     "execution_count": 5,
     "metadata": {},
     "output_type": "execute_result"
    }
   ],
   "source": [
    "# Get a value at an index\n",
    "\n",
    "arr[9]"
   ]
  },
  {
   "cell_type": "code",
   "execution_count": 6,
   "id": "f0ef6336",
   "metadata": {},
   "outputs": [
    {
     "data": {
      "text/plain": [
       "array([1, 2, 3, 4])"
      ]
     },
     "execution_count": 6,
     "metadata": {},
     "output_type": "execute_result"
    }
   ],
   "source": [
    "# Get values in a range\n",
    "\n",
    "arr[1: 5]\n",
    "\n",
    "# 1 inclusive and 5 exclusive"
   ]
  },
  {
   "cell_type": "markdown",
   "id": "3c226322",
   "metadata": {},
   "source": [
    "# Broadcasting"
   ]
  },
  {
   "cell_type": "markdown",
   "id": "09b50a38",
   "metadata": {},
   "source": [
    "- NumPy arrays differ from a normal python list because of their ability to broadcast:"
   ]
  },
  {
   "cell_type": "code",
   "execution_count": 7,
   "id": "525cf2c2",
   "metadata": {},
   "outputs": [
    {
     "data": {
      "text/plain": [
       "array([100, 100, 100, 100, 100,   5,   6,   7,   8,   9,  10])"
      ]
     },
     "execution_count": 7,
     "metadata": {},
     "output_type": "execute_result"
    }
   ],
   "source": [
    "# Setting a value with index range (Broadcasting)\n",
    "\n",
    "arr[0: 5] = 100\n",
    "\n",
    "arr\n",
    "\n",
    "# replaces values from 0 to 5 with a value 100"
   ]
  },
  {
   "cell_type": "code",
   "execution_count": 8,
   "id": "9bc1a77c",
   "metadata": {},
   "outputs": [],
   "source": [
    "# Reset array, we will see why I had to reset in a moment\n",
    "\n",
    "arr = np.arange(0, 11)"
   ]
  },
  {
   "cell_type": "code",
   "execution_count": 9,
   "id": "d33e13bd",
   "metadata": {},
   "outputs": [
    {
     "data": {
      "text/plain": [
       "array([ 0,  1,  2,  3,  4,  5,  6,  7,  8,  9, 10])"
      ]
     },
     "execution_count": 9,
     "metadata": {},
     "output_type": "execute_result"
    }
   ],
   "source": [
    "arr"
   ]
  },
  {
   "cell_type": "markdown",
   "id": "a9d9cb3c",
   "metadata": {},
   "source": [
    "# Important notes on Slices"
   ]
  },
  {
   "cell_type": "code",
   "execution_count": 10,
   "id": "5a6fe5e8",
   "metadata": {},
   "outputs": [],
   "source": [
    "slice_of_arr = arr[0: 6]"
   ]
  },
  {
   "cell_type": "code",
   "execution_count": 11,
   "id": "8952e838",
   "metadata": {},
   "outputs": [
    {
     "data": {
      "text/plain": [
       "array([0, 1, 2, 3, 4, 5])"
      ]
     },
     "execution_count": 11,
     "metadata": {},
     "output_type": "execute_result"
    }
   ],
   "source": [
    "slice_of_arr"
   ]
  },
  {
   "cell_type": "code",
   "execution_count": 12,
   "id": "d172a812",
   "metadata": {},
   "outputs": [
    {
     "data": {
      "text/plain": [
       "array([99, 99, 99, 99, 99, 99])"
      ]
     },
     "execution_count": 12,
     "metadata": {},
     "output_type": "execute_result"
    }
   ],
   "source": [
    "# change slice\n",
    "\n",
    "slice_of_arr[:] = 99\n",
    "\n",
    "# show slice again\n",
    "slice_of_arr"
   ]
  },
  {
   "cell_type": "markdown",
   "id": "1bbcef7f",
   "metadata": {},
   "source": [
    "- Now note the changes also occur in our original array!"
   ]
  },
  {
   "cell_type": "code",
   "execution_count": 13,
   "id": "2887d400",
   "metadata": {},
   "outputs": [
    {
     "data": {
      "text/plain": [
       "array([99, 99, 99, 99, 99, 99,  6,  7,  8,  9, 10])"
      ]
     },
     "execution_count": 13,
     "metadata": {},
     "output_type": "execute_result"
    }
   ],
   "source": [
    "arr"
   ]
  },
  {
   "cell_type": "markdown",
   "id": "e4399af6",
   "metadata": {},
   "source": [
    "## Data is not copied, it's a view of the original array! This avoids memory problems!!!!"
   ]
  },
  {
   "cell_type": "code",
   "execution_count": 14,
   "id": "22bf29ee",
   "metadata": {},
   "outputs": [
    {
     "data": {
      "text/plain": [
       "array([99, 99, 99, 99, 99, 99,  6,  7,  8,  9, 10])"
      ]
     },
     "execution_count": 14,
     "metadata": {},
     "output_type": "execute_result"
    }
   ],
   "source": [
    "# To get a copy, neeed to be explicit\n",
    "\n",
    "arr_copy = arr.copy()\n",
    "arr_copy"
   ]
  },
  {
   "cell_type": "markdown",
   "id": "cfe1a8e9",
   "metadata": {},
   "source": [
    "## Indexing a 2D array(matrices)"
   ]
  },
  {
   "cell_type": "markdown",
   "id": "3fe77ff9",
   "metadata": {},
   "source": [
    "- The general format is arr_2D[row][col] or arr_2D[row, col]. Suggest to using the comma notation for clarity"
   ]
  },
  {
   "cell_type": "code",
   "execution_count": 15,
   "id": "3db0d661",
   "metadata": {},
   "outputs": [
    {
     "data": {
      "text/plain": [
       "array([[ 5, 10, 15],\n",
       "       [20, 25, 30],\n",
       "       [35, 40, 45]])"
      ]
     },
     "execution_count": 15,
     "metadata": {},
     "output_type": "execute_result"
    }
   ],
   "source": [
    "arr_2D = np.array(([5, 10, 15], [20, 25, 30], [35, 40, 45]))\n",
    "\n",
    "arr_2D"
   ]
  },
  {
   "cell_type": "code",
   "execution_count": 16,
   "id": "5dbfcbdb",
   "metadata": {},
   "outputs": [],
   "source": [
    "# Indexing row"
   ]
  },
  {
   "cell_type": "code",
   "execution_count": 17,
   "id": "42341aeb",
   "metadata": {},
   "outputs": [
    {
     "data": {
      "text/plain": [
       "array([20, 25, 30])"
      ]
     },
     "execution_count": 17,
     "metadata": {},
     "output_type": "execute_result"
    }
   ],
   "source": [
    "arr_2D[1]"
   ]
  },
  {
   "cell_type": "code",
   "execution_count": 18,
   "id": "fcfe308c",
   "metadata": {},
   "outputs": [],
   "source": [
    "# Format is arr_2D[row][col] or arr_2D[row, col]"
   ]
  },
  {
   "cell_type": "code",
   "execution_count": 19,
   "id": "3655f62d",
   "metadata": {},
   "outputs": [],
   "source": [
    "# Getting individual element value"
   ]
  },
  {
   "cell_type": "code",
   "execution_count": 20,
   "id": "2e1647e1",
   "metadata": {},
   "outputs": [
    {
     "data": {
      "text/plain": [
       "20"
      ]
     },
     "execution_count": 20,
     "metadata": {},
     "output_type": "execute_result"
    }
   ],
   "source": [
    "arr_2D[1, 0]\n",
    "\n",
    "# or \n",
    "\n",
    "# arr_2D[1][0]"
   ]
  },
  {
   "cell_type": "code",
   "execution_count": 21,
   "id": "7f98a26c",
   "metadata": {},
   "outputs": [
    {
     "data": {
      "text/plain": [
       "20"
      ]
     },
     "execution_count": 21,
     "metadata": {},
     "output_type": "execute_result"
    }
   ],
   "source": [
    "arr_2D[1][0]"
   ]
  },
  {
   "cell_type": "code",
   "execution_count": 22,
   "id": "720c0e85",
   "metadata": {},
   "outputs": [
    {
     "data": {
      "text/plain": [
       "20"
      ]
     },
     "execution_count": 22,
     "metadata": {},
     "output_type": "execute_result"
    }
   ],
   "source": [
    "# Getting individual element value\n",
    "\n",
    "arr_2D[1][0]"
   ]
  },
  {
   "cell_type": "code",
   "execution_count": null,
   "id": "8995fc6b",
   "metadata": {},
   "outputs": [],
   "source": []
  }
 ],
 "metadata": {
  "kernelspec": {
   "display_name": "Python 3 (ipykernel)",
   "language": "python",
   "name": "python3"
  },
  "language_info": {
   "codemirror_mode": {
    "name": "ipython",
    "version": 3
   },
   "file_extension": ".py",
   "mimetype": "text/x-python",
   "name": "python",
   "nbconvert_exporter": "python",
   "pygments_lexer": "ipython3",
   "version": "3.9.13"
  }
 },
 "nbformat": 4,
 "nbformat_minor": 5
}
